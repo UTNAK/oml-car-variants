{
 "cells": [
  {
   "cell_type": "code",
   "execution_count": 12,
   "id": "93dc957b",
   "metadata": {},
   "outputs": [],
   "source": [
    "import carla\n",
    "\n",
    "# 连接 CARLA\n",
    "client = carla.Client(\"localhost\", 2000)\n",
    "client.set_timeout(10.0)\n",
    "world = client.load_world(\"Town04_Opt\")\n",
    "\n",
    "bp_lib = world.get_blueprint_library()\n"
   ]
  },
  {
   "cell_type": "code",
   "execution_count": 13,
   "id": "2b7174b5",
   "metadata": {},
   "outputs": [],
   "source": [
    "def snap_to_lane(world, rough_loc: carla.Location) -> carla.Transform:\n",
    "    \"\"\"\n",
    "    输入 spectator 给的粗略位置，返回最近车道中心 transform（位置+朝向）\n",
    "    \"\"\"\n",
    "    m = world.get_map()\n",
    "    wp = m.get_waypoint(rough_loc, project_to_road=True, lane_type=carla.LaneType.Driving)\n",
    "    if wp is None:\n",
    "        raise RuntimeError(\"这个位置附近没有可驾驶车道！\")\n",
    "\n",
    "    tf = wp.transform\n",
    "    # 确保 z 在地面以上\n",
    "    tf.location.z = rough_loc.z if rough_loc.z > 0.3 else 0.3\n",
    "    return tf\n"
   ]
  },
  {
   "cell_type": "code",
   "execution_count": 18,
   "id": "70303ba2",
   "metadata": {},
   "outputs": [
    {
     "name": "stdout",
     "output_type": "stream",
     "text": [
      "[INFO] snapped transform: Transform(Location(x=87.422699, y=13.437803, z=10.905505), Rotation(pitch=0.641165, yaw=-539.767334, roll=0.000000))\n"
     ]
    }
   ],
   "source": [
    "# 假设 spectator 给的点\n",
    "spectator_loc = carla.Location(x=87.53738403320312, y= 13.280508518218994, z=10.905505180358887)\n",
    "\n",
    "# 车道中心 transform\n",
    "spawn_tf = snap_to_lane(world, spectator_loc)\n",
    "print(\"[INFO] snapped transform:\", spawn_tf)\n"
   ]
  },
  {
   "cell_type": "code",
   "execution_count": 19,
   "id": "a24ec26b",
   "metadata": {},
   "outputs": [
    {
     "name": "stdout",
     "output_type": "stream",
     "text": [
      "[SPAWNED] vehicle id: 768 at Transform(Location(x=0.000000, y=0.000000, z=0.000000), Rotation(pitch=0.000000, yaw=0.000000, roll=0.000000))\n"
     ]
    }
   ],
   "source": [
    "bp = bp_lib.find(\"vehicle.tesla.model3\")  # 选一个车型\n",
    "\n",
    "vehicle = world.try_spawn_actor(bp, spawn_tf)\n",
    "if vehicle is None:\n",
    "    raise RuntimeError(\"车辆生成失败，位置可能被占用\")\n",
    "\n",
    "print(\"[SPAWNED] vehicle id:\", vehicle.id, \"at\", vehicle.get_transform())\n",
    "\n",
    "# 可选：把视角移动到车辆上方\n",
    "spectator = world.get_spectator()\n",
    "spectator.set_transform(\n",
    "    carla.Transform(\n",
    "        spawn_tf.location + carla.Location(z=10.0),\n",
    "        carla.Rotation(pitch=-30.0, yaw=spawn_tf.rotation.yaw)\n",
    "    )\n",
    ")\n"
   ]
  },
  {
   "cell_type": "code",
   "execution_count": null,
   "id": "00c12c19",
   "metadata": {},
   "outputs": [],
   "source": []
  }
 ],
 "metadata": {
  "kernelspec": {
   "display_name": "Python 3.7 (CARLA)",
   "language": "python",
   "name": "python37-carla"
  },
  "language_info": {
   "codemirror_mode": {
    "name": "ipython",
    "version": 3
   },
   "file_extension": ".py",
   "mimetype": "text/x-python",
   "name": "python",
   "nbconvert_exporter": "python",
   "pygments_lexer": "ipython3",
   "version": "3.7.9"
  }
 },
 "nbformat": 4,
 "nbformat_minor": 5
}
