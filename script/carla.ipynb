{
 "cells": [
  {
   "cell_type": "code",
   "execution_count": 1,
   "id": "8097ff5d-a77f-4316-a1f6-bf26c2c75927",
   "metadata": {},
   "outputs": [
    {
     "name": "stdout",
     "output_type": "stream",
     "text": [
      "Defaulting to user installation because normal site-packages is not writeable\n",
      "Requirement already satisfied: carla in ./.local/lib/python3.8/site-packages (0.9.14)\n",
      "\n",
      "\u001b[1m[\u001b[0m\u001b[34;49mnotice\u001b[0m\u001b[1;39;49m]\u001b[0m\u001b[39;49m A new release of pip is available: \u001b[0m\u001b[31;49m23.1.2\u001b[0m\u001b[39;49m -> \u001b[0m\u001b[32;49m25.0.1\u001b[0m\n",
      "\u001b[1m[\u001b[0m\u001b[34;49mnotice\u001b[0m\u001b[1;39;49m]\u001b[0m\u001b[39;49m To update, run: \u001b[0m\u001b[32;49mpython3 -m pip install --upgrade pip\u001b[0m\n"
     ]
    }
   ],
   "source": [
    "!pip install carla"
   ]
  },
  {
   "cell_type": "code",
   "execution_count": 2,
   "id": "168514cb-5614-46c9-873a-400c6d6d0c46",
   "metadata": {},
   "outputs": [],
   "source": [
    "import carla\n",
    "import math\n",
    "import random\n",
    "import time"
   ]
  },
  {
   "cell_type": "code",
   "execution_count": 3,
   "id": "c4ec2208-859d-4859-9c0b-619324be7f1d",
   "metadata": {},
   "outputs": [],
   "source": [
    "client = carla.Client('localhost', 2000)"
   ]
  },
  {
   "cell_type": "code",
   "execution_count": 4,
   "id": "6aa6824a-58a1-4863-9c6b-a08d82b649fe",
   "metadata": {},
   "outputs": [],
   "source": [
    "world = client.get_world()"
   ]
  },
  {
   "cell_type": "code",
   "execution_count": null,
   "id": "5ab5365e-37aa-4357-8d22-c75921d3965f",
   "metadata": {},
   "outputs": [],
   "source": [
    "weather = carla.WeatherParameters.ClearNoon\n",
    "world.set_weather(weather)"
   ]
  },
  {
   "cell_type": "code",
   "execution_count": 6,
   "id": "73e160cf-4a21-45d5-b76d-60792740267d",
   "metadata": {},
   "outputs": [],
   "source": [
    "blueprint_library = world.get_blueprint_library()"
   ]
  },
  {
   "cell_type": "code",
   "execution_count": 7,
   "id": "e528ef48-e2dc-4d15-b907-82d5650a3d65",
   "metadata": {},
   "outputs": [],
   "source": [
    "ego_vehicle_bp = blueprint_library.find('vehicle.lincoln.mkz_2020')\n",
    "ego_vehicle_bp.set_attribute('color', '0, 0, 0')"
   ]
  },
  {
   "cell_type": "code",
   "execution_count": 8,
   "id": "b54f836b-a4ba-4b9b-9f59-9755c46de9a5",
   "metadata": {},
   "outputs": [],
   "source": [
    "transform = random.choice(world.get_map().get_spawn_points())\n",
    "ego_vehicle = world.spawn_actor(ego_vehicle_bp, transform)"
   ]
  },
  {
   "cell_type": "code",
   "execution_count": 9,
   "id": "76ead1f1-97bf-4dbf-817f-1c8dc9dacc4d",
   "metadata": {},
   "outputs": [],
   "source": [
    "location = ego_vehicle.get_location()\n",
    "location.x += 10.0\n",
    "ego_vehicle.set_location(location)"
   ]
  },
  {
   "cell_type": "code",
   "execution_count": 10,
   "id": "b87a97c3-438f-4407-9bec-2cc5aead5f45",
   "metadata": {},
   "outputs": [],
   "source": [
    "ego_vehicle.set_autopilot(True)"
   ]
  },
  {
   "cell_type": "code",
   "execution_count": 11,
   "id": "0db78e55-573c-48fc-a884-d74d166e0fbf",
   "metadata": {},
   "outputs": [],
   "source": [
    "camera_bp = blueprint_library.find('sensor.camera.rgb')\n",
    "camera_transform = carla.Transform(carla.Location(x=1.5, z=2.4))\n",
    "camera = world.spawn_actor(camera_bp, camera_transform, attach_to=ego_vehicle)"
   ]
  },
  {
   "cell_type": "code",
   "execution_count": 12,
   "id": "c91e6a9b-29bf-4cbd-a9a4-47154e2359e1",
   "metadata": {},
   "outputs": [],
   "source": [
    "spectator = client.get_world().get_spectator()\n",
    "transform = carla.Transform(ego_vehicle.get_transform().transform(carla.Location(x=-4,z=2.5)),ego_vehicle.get_transform().rotation)\n",
    "spectator.set_transform(transform)"
   ]
  },
  {
   "cell_type": "code",
   "execution_count": null,
   "id": "cd41ca63-1408-4277-8268-7fefcd452b45",
   "metadata": {},
   "outputs": [],
   "source": []
  },
  {
   "cell_type": "code",
   "execution_count": null,
   "id": "ad06f49e-6796-4f89-a08e-30b6e83b1a55",
   "metadata": {},
   "outputs": [],
   "source": []
  },
  {
   "cell_type": "code",
   "execution_count": null,
   "id": "043df801-5e2c-41aa-ac02-6d8da404a629",
   "metadata": {},
   "outputs": [],
   "source": []
  },
  {
   "cell_type": "code",
   "execution_count": null,
   "id": "1ea78323-c493-408a-8476-80413215073a",
   "metadata": {},
   "outputs": [],
   "source": []
  }
 ],
 "metadata": {
  "kernelspec": {
   "display_name": "Python 3 (ipykernel)",
   "language": "python",
   "name": "python3"
  },
  "language_info": {
   "codemirror_mode": {
    "name": "ipython",
    "version": 3
   },
   "file_extension": ".py",
   "mimetype": "text/x-python",
   "name": "python",
   "nbconvert_exporter": "python",
   "pygments_lexer": "ipython3",
   "version": "3.8.10"
  }
 },
 "nbformat": 4,
 "nbformat_minor": 5
}
