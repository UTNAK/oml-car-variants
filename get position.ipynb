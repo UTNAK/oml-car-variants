{
 "cells": [
  {
   "cell_type": "code",
   "execution_count": 17,
   "id": "aaaaf482",
   "metadata": {},
   "outputs": [],
   "source": [
    "import carla\n",
    "\n",
    "def get_lane_center_from_spectator(world: carla.World, spectator_loc: carla.Location):\n",
    "    \"\"\"\n",
    "    输入 spectator 的位置\n",
    "    输出 最近车道中心的 (x,y,z,yaw)\n",
    "    \"\"\"\n",
    "    m = world.get_map()\n",
    "    wp = m.get_waypoint(spectator_loc, project_to_road=True, lane_type=carla.LaneType.Driving)\n",
    "    if wp is None:\n",
    "        raise RuntimeError(\"附近没有可行驶车道，请把 spectator 移到道路上方。\")\n",
    "\n",
    "    tf = wp.transform\n",
    "    return {\n",
    "        \"x\": tf.location.x,\n",
    "        \"y\": tf.location.y,\n",
    "        \"z\": tf.location.z,\n",
    "        \"yaw\": tf.rotation.yaw\n",
    "    }\n",
    "\n"
   ]
  },
  {
   "cell_type": "code",
   "execution_count": 18,
   "id": "222caca0",
   "metadata": {},
   "outputs": [],
   "source": [
    "client = carla.Client(\"localhost\", 2000)\n",
    "client.set_timeout(10.0)\n",
    "world = client.get_world()\n",
    "\n",
    "# 获取 spectator 位置\n",
    "spec_tf = world.get_spectator().get_transform()\n",
    "spec_loc = spec_tf.location\n"
   ]
  },
  {
   "cell_type": "code",
   "execution_count": 19,
   "id": "04aa9d60",
   "metadata": {},
   "outputs": [
    {
     "name": "stdout",
     "output_type": "stream",
     "text": [
      "自车应放在车道中央的坐标： {'x': 87.53738403320312, 'y': 5.280508518218994, 'z': 10.905505180358887, 'yaw': 168.55276489257812}\n"
     ]
    }
   ],
   "source": [
    "sv_pos = get_lane_center_from_spectator(world, spec_loc)\n",
    "print(\"自车应放在车道中央的坐标：\", sv_pos)\n"
   ]
  },
  {
   "cell_type": "code",
   "execution_count": null,
   "id": "e9e801f1",
   "metadata": {},
   "outputs": [],
   "source": []
  }
 ],
 "metadata": {
  "kernelspec": {
   "display_name": "Python 3.7 (CARLA)",
   "language": "python",
   "name": "python37-carla"
  },
  "language_info": {
   "codemirror_mode": {
    "name": "ipython",
    "version": 3
   },
   "file_extension": ".py",
   "mimetype": "text/x-python",
   "name": "python",
   "nbconvert_exporter": "python",
   "pygments_lexer": "ipython3",
   "version": "3.7.9"
  }
 },
 "nbformat": 4,
 "nbformat_minor": 5
}
