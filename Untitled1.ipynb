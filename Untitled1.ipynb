{
 "cells": [
  {
   "cell_type": "code",
   "execution_count": 1,
   "id": "2819280f",
   "metadata": {},
   "outputs": [
    {
     "name": "stdout",
     "output_type": "stream",
     "text": [
      "可用地图：\n",
      "   /Game/Carla/Maps/Town01\n",
      "   /Game/Carla/Maps/Town01_Opt\n",
      "   /Game/Carla/Maps/Town02\n",
      "   /Game/Carla/Maps/Town02_Opt\n",
      "   /Game/Carla/Maps/Town03\n",
      "   /Game/Carla/Maps/Town03_Opt\n",
      "   /Game/Carla/Maps/Town04\n",
      "   /Game/Carla/Maps/Town04_Opt\n",
      "   /Game/Carla/Maps/Town05\n",
      "   /Game/Carla/Maps/Town05_Opt\n",
      "   /Game/Carla/Maps/Town10HD\n",
      "   /Game/Carla/Maps/Town10HD_Opt\n"
     ]
    }
   ],
   "source": [
    "import carla\n",
    "\n",
    "client = carla.Client(\"localhost\", 2000)\n",
    "client.set_timeout(10.0)\n",
    "\n",
    "available_maps = client.get_available_maps()\n",
    "print(\"可用地图：\")\n",
    "for m in available_maps:\n",
    "    print(\"  \", m)\n"
   ]
  },
  {
   "cell_type": "code",
   "execution_count": null,
   "id": "52f49505",
   "metadata": {},
   "outputs": [],
   "source": []
  }
 ],
 "metadata": {
  "kernelspec": {
   "display_name": "Python 3.7 (CARLA)",
   "language": "python",
   "name": "python37-carla"
  },
  "language_info": {
   "codemirror_mode": {
    "name": "ipython",
    "version": 3
   },
   "file_extension": ".py",
   "mimetype": "text/x-python",
   "name": "python",
   "nbconvert_exporter": "python",
   "pygments_lexer": "ipython3",
   "version": "3.7.9"
  }
 },
 "nbformat": 4,
 "nbformat_minor": 5
}
