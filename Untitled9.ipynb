{
 "cells": [
  {
   "cell_type": "code",
   "execution_count": 1,
   "id": "24d68727",
   "metadata": {},
   "outputs": [
    {
     "name": "stdout",
     "output_type": "stream",
     "text": [
      "Loaded: Carla/Maps/Town04\n"
     ]
    }
   ],
   "source": [
    "import carla\n",
    "\n",
    "def safe_load_town(client, town='Town04'):\n",
    "    world = client.get_world()\n",
    "\n",
    "    # 1) 关同步模式（避免阻塞在旧 world 的 tick）\n",
    "    settings = world.get_settings()\n",
    "    if settings.synchronous_mode:\n",
    "        settings.synchronous_mode = False\n",
    "        settings.fixed_delta_seconds = None\n",
    "        world.apply_settings(settings)\n",
    "\n",
    "    # 2) 停并销毁所有传感器（最关键）\n",
    "    to_destroy = []\n",
    "    for a in world.get_actors():\n",
    "        if a.type_id.startswith('sensor.'):\n",
    "            try:\n",
    "                if hasattr(a, 'stop'): a.stop()\n",
    "            except: pass\n",
    "            to_destroy.append(a)\n",
    "    for a in to_destroy:\n",
    "        try: a.destroy()\n",
    "        except: pass\n",
    "\n",
    "    # 3) 切图（会清空剩余演员）\n",
    "    world = client.load_world(town)\n",
    "    world.wait_for_tick()\n",
    "    return world\n",
    "\n",
    "# 用法\n",
    "client = carla.Client('localhost', 2000); client.set_timeout(10.0)\n",
    "world = safe_load_town(client, 'Town04')\n",
    "m = world.get_map()\n",
    "print('Loaded:', m.name)\n"
   ]
  },
  {
   "cell_type": "code",
   "execution_count": null,
   "id": "eb17a3f1",
   "metadata": {},
   "outputs": [],
   "source": []
  }
 ],
 "metadata": {
  "kernelspec": {
   "display_name": "Python 3.7 (CARLA)",
   "language": "python",
   "name": "python37-carla"
  },
  "language_info": {
   "codemirror_mode": {
    "name": "ipython",
    "version": 3
   },
   "file_extension": ".py",
   "mimetype": "text/x-python",
   "name": "python",
   "nbconvert_exporter": "python",
   "pygments_lexer": "ipython3",
   "version": "3.7.9"
  }
 },
 "nbformat": 4,
 "nbformat_minor": 5
}
