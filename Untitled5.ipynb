{
 "cells": [
  {
   "cell_type": "code",
   "execution_count": 10,
   "id": "5550d16a",
   "metadata": {},
   "outputs": [
    {
     "data": {
      "text/plain": [
       "317975"
      ]
     },
     "execution_count": 10,
     "metadata": {},
     "output_type": "execute_result"
    }
   ],
   "source": [
    "import carla\n",
    "import json\n",
    "import math\n",
    "import random\n",
    "import time\n",
    "\n",
    "# === 连接 CARLA ===\n",
    "client = carla.Client(\"localhost\", 2000)\n",
    "client.set_timeout(10.0)\n",
    "\n",
    "# 选择地图\n",
    "world = client.load_world(\"Town04\")\n",
    "\n",
    "# Blueprint library\n",
    "bp_lib = world.get_blueprint_library()\n",
    "\n",
    "# 设置同步模式\n",
    "settings = world.get_settings()\n",
    "settings.synchronous_mode = True\n",
    "settings.fixed_delta_seconds = 0.01  # 10ms\n",
    "world.apply_settings(settings)\n",
    "\n",
    "# 天气：稍后根据 JSON 设置\n"
   ]
  },
  {
   "cell_type": "code",
   "execution_count": 7,
   "id": "00dbaa22",
   "metadata": {},
   "outputs": [],
   "source": [
    "def resolve_blueprint_id(bp_lib, vehicle_type: str, default_id=\"vehicle.tesla.model3\"):\n",
    "    \"\"\"把JSON里的车辆类型转换成CARLA的蓝图id\"\"\"\n",
    "    vtype = vehicle_type.lower()\n",
    "    if \"car\" in vtype:\n",
    "        return \"vehicle.tesla.model3\"\n",
    "    elif \"truck\" in vtype:\n",
    "        return \"vehicle.carlamotors.carlacola\"\n",
    "    elif \"motorcycle\" in vtype or \"bike\" in vtype:\n",
    "        return \"vehicle.kawasaki.ninja\"\n",
    "    else:\n",
    "        return default_id\n",
    "\n",
    "def try_spawn_with_retry(world, blueprint, transform, max_tries=10):\n",
    "    \"\"\"尝试生成车辆，如果位置被占则稍微平移再试\"\"\"\n",
    "    loc = transform.location\n",
    "    rot = transform.rotation\n",
    "    for i in range(max_tries):\n",
    "        actor = world.try_spawn_actor(blueprint, carla.Transform(loc, rot))\n",
    "        if actor is not None:\n",
    "            return actor\n",
    "        loc.x += 0.5  # 微移避免碰撞\n",
    "    return None\n",
    "\n",
    "def snap_to_lane(world, loc: carla.Location):\n",
    "    \"\"\"吸附到最近的车道，得到车道中心和对齐方向\"\"\"\n",
    "    wp = world.get_map().get_waypoint(loc, project_to_road=True, lane_type=carla.LaneType.Driving)\n",
    "    if wp is None:\n",
    "        raise RuntimeError(\"给定位置附近没有可驾驶车道！\")\n",
    "    return wp.transform\n",
    "\n",
    "def set_speed_along_yaw(actor, speed_mps: float):\n",
    "    \"\"\"设置车辆沿着yaw方向的速度\"\"\"\n",
    "    yaw = math.radians(actor.get_transform().rotation.yaw)\n",
    "    vel = carla.Vector3D(math.cos(yaw) * speed_mps, math.sin(yaw) * speed_mps, 0.0)\n",
    "    actor.set_target_velocity(vel)\n"
   ]
  },
  {
   "cell_type": "code",
   "execution_count": 8,
   "id": "aa24bd98",
   "metadata": {},
   "outputs": [
    {
     "name": "stdout",
     "output_type": "stream",
     "text": [
      "[WEATHER] Set to HardRainNoon\n",
      "[SV] id=1262 type=vehicle.tesla.model3 pos=Location(x=87.422699, y=13.437803, z=10.843590) yaw=-539.8°\n"
     ]
    }
   ],
   "source": [
    "# 读取 JSON\n",
    "with open(r\"C:\\Users\\mingw\\oml-car-variants\\build\\results\\template\\scene05.json\", \"r\") as f:\n",
    "    scene = json.load(f)\n",
    "\n",
    "\n",
    "\n",
    "sv_cfg = {\n",
    "    \"type\": scene[\"results\"][\"bindings\"][0][\"SVVehicleType\"][\"value\"],\n",
    "    \"x\": float(scene[\"results\"][\"bindings\"][0][\"SVposx\"][\"value\"]),\n",
    "    \"y\": float(scene[\"results\"][\"bindings\"][0][\"SVposy\"][\"value\"]),\n",
    "    \"z\": float(scene[\"results\"][\"bindings\"][0][\"SVposz\"][\"value\"]),\n",
    "    \"speed\": float(scene[\"results\"][\"bindings\"][0][\"SVvel\"][\"value\"]),\n",
    "}\n",
    "\n",
    "# 设置天气\n",
    "weather_name = scene[\"results\"][\"bindings\"][0][\"weatherPattern\"][\"value\"]\n",
    "weather = getattr(carla.WeatherParameters, weather_name)\n",
    "world.set_weather(weather)\n",
    "print(f\"[WEATHER] Set to {weather_name}\")\n",
    "\n",
    "# === 生成 SV ===\n",
    "rough_loc = carla.Location(sv_cfg[\"x\"], sv_cfg[\"y\"], sv_cfg[\"z\"])\n",
    "tf_sv = snap_to_lane(world, rough_loc)\n",
    "\n",
    "bp_sv_id = resolve_blueprint_id(bp_lib, sv_cfg[\"type\"])\n",
    "bp_sv = bp_lib.find(bp_sv_id)\n",
    "\n",
    "sv = try_spawn_with_retry(world, bp_sv, tf_sv)\n",
    "if sv is None:\n",
    "    raise RuntimeError(\"SV 生成失败\")\n",
    "print(f\"[SV] id={sv.id} type={bp_sv_id} pos={tf_sv.location} yaw={tf_sv.rotation.yaw:.1f}°\")\n",
    "\n",
    "# spectator 移动到车上方\n",
    "spectator = world.get_spectator()\n",
    "spectator.set_transform(\n",
    "    carla.Transform(\n",
    "        tf_sv.location + carla.Location(z=10.0),\n",
    "        carla.Rotation(pitch=-30.0, yaw=tf_sv.rotation.yaw)\n",
    "    )\n",
    ")\n",
    "\n",
    "set_speed_along_yaw(sv, sv_cfg[\"speed\"])\n"
   ]
  },
  {
   "cell_type": "code",
   "execution_count": 9,
   "id": "86d95133",
   "metadata": {},
   "outputs": [
    {
     "name": "stdout",
     "output_type": "stream",
     "text": [
      "[WARN] POV1 spawn failed\n",
      "[WARN] POV2 spawn failed\n",
      "[WARN] POV3 spawn failed\n"
     ]
    }
   ],
   "source": [
    "pov_cfgs = []\n",
    "for b in scene[\"results\"][\"bindings\"]:\n",
    "    if \"PovVehicleType\" in b:\n",
    "        pov_cfgs.append({\n",
    "            \"type\": b[\"PovVehicleType\"][\"value\"],\n",
    "            \"dx\": float(b[\"Povposx\"][\"value\"]),\n",
    "            \"dy\": float(b[\"Povposy\"][\"value\"]),\n",
    "            \"dz\": float(b[\"Povposz\"][\"value\"]),\n",
    "            \"speed\": float(b[\"Povvel\"][\"value\"])\n",
    "        })\n",
    "\n",
    "spawned_povs = []\n",
    "for i, cfg in enumerate(pov_cfgs):\n",
    "    # 相对位置 → 绝对位置\n",
    "    sv_tf = sv.get_transform()\n",
    "    yaw_rad = math.radians(sv_tf.rotation.yaw)\n",
    "    dx_rot = cfg[\"dx\"] * math.cos(yaw_rad) - cfg[\"dy\"] * math.sin(yaw_rad)\n",
    "    dy_rot = cfg[\"dx\"] * math.sin(yaw_rad) + cfg[\"dy\"] * math.cos(yaw_rad)\n",
    "\n",
    "    abs_loc = carla.Location(\n",
    "        x=sv_tf.location.x + dx_rot,\n",
    "        y=sv_tf.location.y + dy_rot,\n",
    "        z=sv_tf.location.z + cfg[\"dz\"]\n",
    "    )\n",
    "\n",
    "    tf_pov = snap_to_lane(world, abs_loc)\n",
    "\n",
    "    bp_id = resolve_blueprint_id(bp_lib, cfg[\"type\"])\n",
    "    bp = bp_lib.find(bp_id)\n",
    "\n",
    "    pov = try_spawn_with_retry(world, bp, tf_pov)\n",
    "    if pov is None:\n",
    "        print(f\"[WARN] POV{i+1} spawn failed\")\n",
    "        continue\n",
    "\n",
    "    print(f\"[POV{i+1}] id={pov.id} type={bp_id} pos={tf_pov.location} yaw={tf_pov.rotation.yaw:.1f}°\")\n",
    "    set_speed_along_yaw(pov, cfg[\"speed\"])\n",
    "    spawned_povs.append(pov)\n"
   ]
  },
  {
   "cell_type": "code",
   "execution_count": null,
   "id": "6b8f6def",
   "metadata": {},
   "outputs": [],
   "source": []
  }
 ],
 "metadata": {
  "kernelspec": {
   "display_name": "Python 3.7 (CARLA)",
   "language": "python",
   "name": "python37-carla"
  },
  "language_info": {
   "codemirror_mode": {
    "name": "ipython",
    "version": 3
   },
   "file_extension": ".py",
   "mimetype": "text/x-python",
   "name": "python",
   "nbconvert_exporter": "python",
   "pygments_lexer": "ipython3",
   "version": "3.7.9"
  }
 },
 "nbformat": 4,
 "nbformat_minor": 5
}
